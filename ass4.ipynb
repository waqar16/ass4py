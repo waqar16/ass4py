{
 "cells": [
  {
   "cell_type": "code",
   "execution_count": 11,
   "id": "1d9a53d8",
   "metadata": {},
   "outputs": [
    {
     "name": "stdout",
     "output_type": "stream",
     "text": [
      "Operators: \n",
      "1: Addition\n",
      "2: Subtraction\n",
      "3: Multiplication\n",
      "4: Division\n",
      "5: Power\n",
      "What operation you want to perform? 4\n",
      "Division\n",
      "Enter first value 4\n",
      "Enter first value 4\n",
      "1.0\n"
     ]
    }
   ],
   "source": [
    "# Make a calculator using Python with addition , subtraction , multiplication ,division and power.\n",
    "\n",
    "print(\"Operators: \\n\\\n",
    "1: Addition\\n\\\n",
    "2: Subtraction\\n\\\n",
    "3: Multiplication\\n\\\n",
    "4: Division\\n\\\n",
    "5: Power\")\n",
    "\n",
    "\n",
    "      \n",
    "opr = int(input(\"What operation you want to perform?\"+ \" \"))\n",
    "\n",
    "\n",
    "      \n",
    "if opr == 1:\n",
    "        print(\"Addition\")\n",
    "        num_1 = int(input(\"Enter first value \"))\n",
    "        num_2 = int(input(\"Enter first value \"))\n",
    "        result = num_1 + num_2\n",
    "        print(result)\n",
    "        \n",
    "elif opr == 2:\n",
    "        print(\"Subtraction\")\n",
    "        num_1 = int(input(\"Enter first value \"))\n",
    "        num_2 = int(input(\"Enter first value \"))\n",
    "        result = num_1 - num_2\n",
    "        print(result)\n",
    "        \n",
    "elif opr == 3:\n",
    "        print(\"Multiplication\")\n",
    "        num_1 = int(input(\"Enter first value \"))\n",
    "        num_2 = int(input(\"Enter first value \"))\n",
    "        result = num_1 * num_2\n",
    "        print(result)\n",
    "        \n",
    "elif opr == 4:\n",
    "        print(\"Division\")\n",
    "        num_1 = int(input(\"Enter first value \"))\n",
    "        num_2 = int(input(\"Enter first value \"))\n",
    "        result = num_1 / num_2\n",
    "        print(result)\n",
    "\n",
    "elif opr == 5:\n",
    "        print(\"Power\")\n",
    "        num_1 = int(input(\"value \"))\n",
    "        power = int(input(\"Enter Power\"))\n",
    "        result = num_1**power\n",
    "        print(result)\n",
    "        \n"
   ]
  },
  {
   "cell_type": "code",
   "execution_count": 14,
   "id": "2c7db1dd",
   "metadata": {},
   "outputs": [
    {
     "name": "stdout",
     "output_type": "stream",
     "text": [
      "4\n"
     ]
    }
   ],
   "source": [
    "# Write a program to check if there is any numeric value in list using for loop.\n",
    "\n",
    "list = [\"apple\", \"mango\", 4, \"grappe\"] \n",
    "for x in list: \n",
    "    if type(x) == int: \n",
    "        print(x)"
   ]
  },
  {
   "cell_type": "code",
   "execution_count": 15,
   "id": "2334f696",
   "metadata": {},
   "outputs": [
    {
     "name": "stdout",
     "output_type": "stream",
     "text": [
      "{0: 1, 1: 2}\n",
      "{0: 1, 1: 2, 2: 3}\n"
     ]
    }
   ],
   "source": [
    "# Write a Python script to add a key to a dictionary.\n",
    "\n",
    "dic = {0:1, 1:2}\n",
    "print(dic)\n",
    "dic.update({2:3})\n",
    "print(dic)"
   ]
  },
  {
   "cell_type": "code",
   "execution_count": 16,
   "id": "f60b11fb",
   "metadata": {},
   "outputs": [
    {
     "name": "stdout",
     "output_type": "stream",
     "text": [
      "48\n"
     ]
    }
   ],
   "source": [
    "# Write a Python program to sum all the numeric items in a dictionary.\n",
    "\n",
    "dic = {'apple':10,'mango':14,'banana':24}\n",
    "print(sum(dic.values()))"
   ]
  },
  {
   "cell_type": "code",
   "execution_count": 23,
   "id": "4c9a373d",
   "metadata": {},
   "outputs": [
    {
     "name": "stdout",
     "output_type": "stream",
     "text": [
      "Duplicate integeres:  [2, 3, 4]\n"
     ]
    }
   ],
   "source": [
    "# Write a program to identify duplicate values from list.\n",
    "\n",
    "def duplicate(li):\n",
    "    n=len(li)\n",
    "    dup=[]\n",
    "    for i in range(n):\n",
    "        k = i + 1\n",
    "        for j in range(k,n):\n",
    "            if li[i] == li[j] and li[i] not in dup:\n",
    "                dup.append(li[i])\n",
    "    return dup\n",
    "\n",
    "li=[1,2,3,4,2,3,4]\n",
    "print(\"Duplicate integeres: \",duplicate(li))"
   ]
  },
  {
   "cell_type": "code",
   "execution_count": 24,
   "id": "dc301073",
   "metadata": {},
   "outputs": [
    {
     "name": "stdout",
     "output_type": "stream",
     "text": [
      "Key is present in the dictionary\n",
      "Key is not present in the dictionary\n"
     ]
    }
   ],
   "source": [
    "# Write a Python script to check if a given key already exists in a dictionary\n",
    "\n",
    "list_1 = {1: 10, 2: 20, 3: 30, 4: 40, 5: 50, 6: 60}\n",
    "def is_key_present(x):\n",
    "  if x in d:\n",
    "      print('Key is present in the dictionary')\n",
    "  else:\n",
    "      print('Key is not present in the dictionary')\n",
    "is_key_present(5)\n",
    "is_key_present(9)"
   ]
  },
  {
   "cell_type": "code",
   "execution_count": null,
   "id": "59b2a1c6",
   "metadata": {},
   "outputs": [],
   "source": []
  }
 ],
 "metadata": {
  "kernelspec": {
   "display_name": "Python 3",
   "language": "python",
   "name": "python3"
  },
  "language_info": {
   "codemirror_mode": {
    "name": "ipython",
    "version": 3
   },
   "file_extension": ".py",
   "mimetype": "text/x-python",
   "name": "python",
   "nbconvert_exporter": "python",
   "pygments_lexer": "ipython3",
   "version": "3.8.8"
  }
 },
 "nbformat": 4,
 "nbformat_minor": 5
}
